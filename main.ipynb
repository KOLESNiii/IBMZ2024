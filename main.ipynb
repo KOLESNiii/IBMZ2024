{
 "cells": [
  {
   "cell_type": "markdown",
   "metadata": {},
   "source": [
    "<h1 align=\"left\"><font color='White'>Image Classification</font></h1>\n"
   ]
  },
  {
   "cell_type": "markdown",
   "metadata": {},
   "source": [
    "<h4 align=\"left\"><font color='White'>Loading and Preprocessing</font></h4>"
   ]
  },
  {
   "cell_type": "markdown",
   "metadata": {},
   "source": [
    "1. Loading the images.\n",
    "2. Preprocessing the images (resizing, normalizing).\n",
    "3. Creating labels for classification (cities rainforests, deserts).\n",
    "4. Splitting the data into training and testing sets.\n",
    "5. Making the input ready for a CNN."
   ]
  },
  {
   "cell_type": "code",
   "execution_count": 15,
   "metadata": {},
   "outputs": [
    {
     "name": "stdout",
     "output_type": "stream",
     "text": [
      "Data shape: (6, 128, 128, 3), Labels shape: (6,)\n",
      "Training data shape: (4, 128, 128, 3), Test data shape: (2, 128, 128, 3)\n"
     ]
    }
   ],
   "source": [
    "import os\n",
    "import numpy as np\n",
    "import tensorflow as tf\n",
    "#from tensorflow.keras.preprocessing.image import ImageDataGenerator\n",
    "from sklearn.model_selection import train_test_split\n",
    "from PIL import Image\n",
    "import matplotlib.pyplot as plt\n",
    "\n",
    "# Define paths and categories\n",
    "image_dir = '/home/ashwin/ibmz/IBMZ2024/images'\n",
    "\n",
    "# Define your categories based on the naming convention\n",
    "categories = {\n",
    "    'amazon': 'rainforest',  # Amazon corresponds to rainforest\n",
    "    'sahel': 'desert',       # Sahel corresponds to desert\n",
    "    'us': 'city',            # US corresponds to city\n",
    "    'europe': 'city'         # Europe corresponds to city\n",
    "}\n",
    "\n",
    "# Reverse mapping to numeric labels\n",
    "category_map = {v: idx for idx, v in enumerate(set(categories.values()))}  # Create mapping for labels\n",
    "\n",
    "IMG_SIZE = 128  # Define the target image size\n",
    "data = []\n",
    "labels = []\n",
    "\n",
    "# Load and preprocess the images\n",
    "for img_name in os.listdir(image_dir):\n",
    "    img_path = os.path.join(image_dir, img_name)\n",
    "\n",
    "    # Extract category from the filename (the part after the last '-')\n",
    "    category_key = img_name.split('-')[-1].lower()  # Get the category from the last part of the filename\n",
    "    category_key = category_key.split('.')[0]  # Remove the file extension if present\n",
    "\n",
    "    # Check if the extracted category is in our defined mapping\n",
    "    if category_key in categories:\n",
    "        class_label = category_map[categories[category_key]]  # Get numeric label\n",
    "    else:\n",
    "        print(f\"Warning: Category '{category_key}' not recognized for image '{img_name}'. Skipping.\")\n",
    "        continue\n",
    "\n",
    "    try:\n",
    "        # Load the image and resize it to IMG_SIZE x IMG_SIZE\n",
    "        img = Image.open(img_path).convert('RGB')\n",
    "        img = img.resize((IMG_SIZE, IMG_SIZE))\n",
    "\n",
    "        # Convert the image to a numpy array\n",
    "        img_array = np.array(img)\n",
    "        \n",
    "        # Append the image data and its label to the respective lists\n",
    "        data.append(img_array)\n",
    "        labels.append(class_label)\n",
    "        \n",
    "    except Exception as e:\n",
    "        print(f\"Error loading image {img_name}: {e}\")\n",
    "        continue\n",
    "\n",
    "# Convert lists to numpy arrays for model input\n",
    "data = np.array(data)\n",
    "labels = np.array(labels)\n",
    "\n",
    "# Normalize the image data to be between 0 and 1\n",
    "data = data / 255.0\n",
    "\n",
    "# Split the data into training and testing sets (80% train, 20% test)\n",
    "X_train, X_test, y_train, y_test = train_test_split(data, labels, test_size=0.2, random_state=42)\n",
    "\n",
    "# Print the shapes to confirm\n",
    "print(f\"Data shape: {data.shape}, Labels shape: {labels.shape}\")\n",
    "# (numOfImgs, HeightOfImg, WidOfImg, NumOfChannels)\n",
    "print(f\"Training data shape: {X_train.shape}, Test data shape: {X_test.shape}\")\n"
   ]
  },
  {
   "cell_type": "markdown",
   "metadata": {},
   "source": [
    "<h1 align=\"left\"><font color='White'>Building CNN</font></h1>"
   ]
  },
  {
   "cell_type": "markdown",
   "metadata": {},
   "source": [
    "**Designed to classify the images into:**\n",
    "\n",
    "- **Rainforests**\n",
    "- **Deserts**\n",
    "- **Cities**\n",
    "    "
   ]
  },
  {
   "cell_type": "code",
   "execution_count": 16,
   "metadata": {},
   "outputs": [
    {
     "name": "stderr",
     "output_type": "stream",
     "text": [
      "/home/ashwin/ibmz/IBMZ2024/venv/lib/python3.12/site-packages/keras/src/layers/convolutional/base_conv.py:107: UserWarning: Do not pass an `input_shape`/`input_dim` argument to a layer. When using Sequential models, prefer using an `Input(shape)` object as the first layer in the model instead.\n",
      "  super().__init__(activity_regularizer=activity_regularizer, **kwargs)\n"
     ]
    },
    {
     "name": "stdout",
     "output_type": "stream",
     "text": [
      "Epoch 1/10\n",
      "\u001b[1m1/1\u001b[0m \u001b[32m━━━━━━━━━━━━━━━━━━━━\u001b[0m\u001b[37m\u001b[0m \u001b[1m2s\u001b[0m 2s/step - accuracy: 0.3333 - loss: 1.1005 - val_accuracy: 0.0000e+00 - val_loss: 1.4926\n",
      "Epoch 2/10\n",
      "\u001b[1m1/1\u001b[0m \u001b[32m━━━━━━━━━━━━━━━━━━━━\u001b[0m\u001b[37m\u001b[0m \u001b[1m0s\u001b[0m 223ms/step - accuracy: 0.6667 - loss: 0.5264 - val_accuracy: 0.0000e+00 - val_loss: 1.6284\n",
      "Epoch 3/10\n",
      "\u001b[1m1/1\u001b[0m \u001b[32m━━━━━━━━━━━━━━━━━━━━\u001b[0m\u001b[37m\u001b[0m \u001b[1m0s\u001b[0m 189ms/step - accuracy: 0.6667 - loss: 0.4923 - val_accuracy: 0.0000e+00 - val_loss: 1.0090\n",
      "Epoch 4/10\n",
      "\u001b[1m1/1\u001b[0m \u001b[32m━━━━━━━━━━━━━━━━━━━━\u001b[0m\u001b[37m\u001b[0m \u001b[1m0s\u001b[0m 182ms/step - accuracy: 0.6667 - loss: 0.3633 - val_accuracy: 1.0000 - val_loss: 0.7148\n",
      "Epoch 5/10\n",
      "\u001b[1m1/1\u001b[0m \u001b[32m━━━━━━━━━━━━━━━━━━━━\u001b[0m\u001b[37m\u001b[0m \u001b[1m0s\u001b[0m 173ms/step - accuracy: 1.0000 - loss: 0.3064 - val_accuracy: 0.0000e+00 - val_loss: 0.8556\n",
      "Epoch 6/10\n",
      "\u001b[1m1/1\u001b[0m \u001b[32m━━━━━━━━━━━━━━━━━━━━\u001b[0m\u001b[37m\u001b[0m \u001b[1m0s\u001b[0m 188ms/step - accuracy: 1.0000 - loss: 0.2227 - val_accuracy: 0.0000e+00 - val_loss: 0.7320\n",
      "Epoch 7/10\n",
      "\u001b[1m1/1\u001b[0m \u001b[32m━━━━━━━━━━━━━━━━━━━━\u001b[0m\u001b[37m\u001b[0m \u001b[1m0s\u001b[0m 162ms/step - accuracy: 1.0000 - loss: 0.1615 - val_accuracy: 1.0000 - val_loss: 0.3615\n",
      "Epoch 8/10\n",
      "\u001b[1m1/1\u001b[0m \u001b[32m━━━━━━━━━━━━━━━━━━━━\u001b[0m\u001b[37m\u001b[0m \u001b[1m0s\u001b[0m 163ms/step - accuracy: 1.0000 - loss: 0.0842 - val_accuracy: 1.0000 - val_loss: 0.1371\n",
      "Epoch 9/10\n",
      "\u001b[1m1/1\u001b[0m \u001b[32m━━━━━━━━━━━━━━━━━━━━\u001b[0m\u001b[37m\u001b[0m \u001b[1m0s\u001b[0m 165ms/step - accuracy: 1.0000 - loss: 0.0391 - val_accuracy: 1.0000 - val_loss: 0.0459\n",
      "Epoch 10/10\n",
      "\u001b[1m1/1\u001b[0m \u001b[32m━━━━━━━━━━━━━━━━━━━━\u001b[0m\u001b[37m\u001b[0m \u001b[1m0s\u001b[0m 172ms/step - accuracy: 1.0000 - loss: 0.0218 - val_accuracy: 1.0000 - val_loss: 0.0173\n",
      "\u001b[1m1/1\u001b[0m \u001b[32m━━━━━━━━━━━━━━━━━━━━\u001b[0m\u001b[37m\u001b[0m \u001b[1m0s\u001b[0m 41ms/step - accuracy: 0.0000e+00 - loss: 17.6377\n",
      "Test accuracy: 0.0\n"
     ]
    },
    {
     "data": {
      "image/png": "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",
      "text/plain": [
       "<Figure size 1200x400 with 2 Axes>"
      ]
     },
     "metadata": {},
     "output_type": "display_data"
    }
   ],
   "source": [
    "from tensorflow.keras import layers, models\n",
    "\n",
    "# Define the CNN model\n",
    "def create_model():\n",
    "    model = models.Sequential()\n",
    "    \n",
    "    # First convolutional layer\n",
    "    model.add(layers.Conv2D(32, (3, 3), activation='relu', input_shape=(128, 128, 3)))\n",
    "    model.add(layers.MaxPooling2D((2, 2)))\n",
    "    \n",
    "    # Second convolutional layer\n",
    "    model.add(layers.Conv2D(64, (3, 3), activation='relu'))\n",
    "    model.add(layers.MaxPooling2D((2, 2)))\n",
    "\n",
    "    # Third convolutional layer\n",
    "    model.add(layers.Conv2D(128, (3, 3), activation='relu'))\n",
    "    model.add(layers.MaxPooling2D((2, 2)))\n",
    "\n",
    "    # Flatten the output\n",
    "    model.add(layers.Flatten())\n",
    "    \n",
    "    # Fully connected layer\n",
    "    model.add(layers.Dense(128, activation='relu'))\n",
    "    model.add(layers.Dense(len(category_map), activation='softmax'))  # Output layer\n",
    "\n",
    "    return model\n",
    "\n",
    "# Create the model\n",
    "model = create_model()\n",
    "\n",
    "\n",
    "model.compile(optimizer='adam',\n",
    "              loss='sparse_categorical_crossentropy',\n",
    "              metrics=['accuracy'])\n",
    "\n",
    "# Train the model\n",
    "history = model.fit(X_train, y_train, epochs=10, validation_split=0.2)\n",
    "\n",
    "test_loss, test_accuracy = model.evaluate(X_test, y_test)\n",
    "print(f\"Test accuracy: {test_accuracy}\")\n",
    "\n",
    "\n",
    "\n",
    "\n",
    "import matplotlib.pyplot as plt\n",
    "\n",
    "# Plot training & validation accuracy values\n",
    "plt.figure(figsize=(12, 4))\n",
    "plt.subplot(1, 2, 1)\n",
    "plt.plot(history.history['accuracy'])\n",
    "plt.plot(history.history['val_accuracy'])\n",
    "plt.title('Model accuracy')\n",
    "plt.ylabel('Accuracy')\n",
    "plt.xlabel('Epoch')\n",
    "plt.legend(['Train', 'Validation'], loc='upper left')\n",
    "\n",
    "# Plot training & validation loss values\n",
    "plt.subplot(1, 2, 2)\n",
    "plt.plot(history.history['loss'])\n",
    "plt.plot(history.history['val_loss'])\n",
    "plt.title('Model loss')\n",
    "plt.ylabel('Loss')\n",
    "plt.xlabel('Epoch')\n",
    "plt.legend(['Train', 'Validation'], loc='upper left')\n",
    "\n",
    "plt.show()\n"
   ]
  },
  {
   "cell_type": "markdown",
   "metadata": {},
   "source": [
    "<h1 align=\"left\"><font color='White'>Training Model</font></h1>"
   ]
  },
  {
   "cell_type": "code",
   "execution_count": null,
   "metadata": {
    "vscode": {
     "languageId": "bat"
    }
   },
   "outputs": [],
   "source": [
    "pip install opencv-python numpy rasterio sentinelhub matplotlib"
   ]
  },
  {
   "cell_type": "code",
   "execution_count": 9,
   "metadata": {},
   "outputs": [],
   "source": [
    "import cv2 as opencv\n",
    "from sentinelhub import SHConfig, MimeType, CRS, BBox, SentinelHubRequest, DataCollection, bbox_to_dimensions\n",
    "import numpy as np\n",
    "import matplotlib.pyplot as plt\n",
    "import rasterio"
   ]
  },
  {
   "cell_type": "code",
   "execution_count": null,
   "metadata": {},
   "outputs": [],
   "source": [
    "\n",
    "class imageBundle:\n",
    "    def __init__(self, img, year, coords):\n",
    "        self.img = img  # Assuming img is a grayscale image loaded with OpenCV\n",
    "        self.year = year\n",
    "        self.coords = coords\n",
    "\n",
    "    def toNdvi(self):\n",
    "        # Check if the image is valid\n",
    "        if self.img is None:\n",
    "            raise ValueError(\"No image data found.\") \n",
    "\n",
    "        # Normalize the grayscale image to a range [0, 1]\n",
    "        gray_normalized = self.img.astype(float) / 255.0\n",
    "        \n",
    "        # Map normalized values to NDVI range [-1, 1]\n",
    "        ndvi = gray_normalized * 2 - 1  # Scale from [0, 1] to [-1, 1]\n",
    "\n",
    "        return ndvi  # Return NDVI values\n",
    "    \n",
    "    def returnNdvi(self):\n",
    "        \"\"\"Return a 1D array of NDVI values.\"\"\"\n",
    "        ndvi = self.toNdvi()  # Get the NDVI array\n",
    "        ndvi_flat = ndvi.flatten()  # Flatten the NDVI array to 1D\n",
    "        return ndvi_flat  # Return the flattened NDVI values        \n",
    "    \n",
    "\n",
    "    def display(self):\n",
    "        \"\"\"Method to display the original image and NDVI.\"\"\"\n",
    "        ndvi_image = self.toNdvi()\n",
    "\n",
    "        # Normalize NDVI for display purposes (to [0, 255])\n",
    "        ndvi_display = opencv.normalize(ndvi_image, None, 0, 255, opencv.NORM_MINMAX).astype(np.uint8)\n",
    "\n",
    "        plt.figure(figsize=(10, 5))\n",
    "        \n",
    "        plt.subplot(1, 2, 1)\n",
    "        plt.imshow(self.img, cmap='gray')\n",
    "        plt.title(f'Original Grayscale Image ({self.year})')\n",
    "        plt.axis('off')\n",
    "\n",
    "        plt.subplot(1, 2, 2)\n",
    "        plt.imshow(ndvi_display, cmap='hot')\n",
    "        plt.title('Mapped NDVI')\n",
    "        plt.axis('off')\n",
    "\n",
    "        plt.colorbar()\n",
    "        plt.show()\n",
    "\n",
    "\n",
    "\n",
    "\n",
    "\n",
    "\n",
    "\n",
    "\n",
    "\n",
    "  \n",
    "    \n",
    "\n",
    "\n",
    "\n",
    "\n",
    "\n",
    "\n",
    "\n",
    "\n",
    "\n",
    "\n",
    "\n",
    "    "
   ]
  },
  {
   "cell_type": "code",
   "execution_count": null,
   "metadata": {},
   "outputs": [],
   "source": [
    "\n"
   ]
  },
  {
   "cell_type": "code",
   "execution_count": null,
   "metadata": {},
   "outputs": [],
   "source": []
  },
  {
   "cell_type": "code",
   "execution_count": null,
   "metadata": {},
   "outputs": [],
   "source": []
  },
  {
   "cell_type": "code",
   "execution_count": 6,
   "execution_count": 2,
   "metadata": {},
   "outputs": [],
   "source": [
    "import math\n",
    "\n",
    "# Constants\n",
    "earth_radius = 6371.0  # Earth radius in km\n",
    "km_per_deg_lat = 111  # Kilometers per degree of latitude\n",
    "\n",
    "# Function to calculate the longitude step at a given latitude\n",
    "def calculate_longitude_step(lat, side_km):\n",
    "    km_per_deg_lon = 111 * math.cos(math.radians(lat))  # Kilometers per degree of longitude at latitude\n",
    "    return side_km / km_per_deg_lon\n",
    "\n",
    "\n",
    "# Generate grid from bottom-left (-90, -180) to top-right (90, 180)\n",
    "def get_all_grids(side_length_km = 85):\n",
    "    # Latitude step (constant since km per degree latitude is constant)\n",
    "    lat_step = side_length_km / km_per_deg_lat\n",
    "    lat = -90\n",
    "    count = 0\n",
    "    while lat + lat_step <= 90:\n",
    "        lon = -180\n",
    "        while lon + calculate_longitude_step(lat, side_length_km) <= 180:\n",
    "            lon_step = calculate_longitude_step(lat, side_length_km)\n",
    "            \n",
    "            # Bottom-left and top-right corners of the box\n",
    "            bottom_left = [lat, lon]\n",
    "            top_right = [lat + lat_step, lon + lon_step]\n",
    "            \n",
    "            # return a generator\n",
    "            yield (count, bottom_left + top_right)\n",
    "            \n",
    "            # Move to the next box in longitude\n",
    "            lon += lon_step\n",
    "            count += 1\n",
    "        # Move to the next box in latitude\n",
    "        lat += lat_step\n",
    "    \n",
    "\n",
    "def get_nth_grid(n, side_length_km = 85):\n",
    "    # Latitude step (constant since km per degree latitude is constant)\n",
    "    lat_step = side_length_km / km_per_deg_lat\n",
    "    lat = -90\n",
    "    count = 0\n",
    "    while lat + lat_step <= 90:\n",
    "        lon = -180\n",
    "        while lon + calculate_longitude_step(lat, side_length_km) <= 180:\n",
    "            lon_step = calculate_longitude_step(lat, side_length_km)\n",
    "            if count == n:\n",
    "                return [lat, lon, lat + lat_step, lon + lon_step]\n",
    "\n",
    "            lon += lon_step\n",
    "            count += 1\n",
    "        # Move to the next box in latitude\n",
    "        lat += lat_step"
   ]
   "source": [
    "class imageBundle:\n",
    "    def __init__(self, rgb, infrared, coords, year):\n",
    "        self.rgb = rgb\n",
    "        self.coords = coords\n",
    "        self.year = year\n",
    "        self.infrared = infrared\n",
    "\n",
    "def imageToBundle(image):\n",
    "    rgb = opencv.imread(image)\n",
    "    infrared = opencv.imread(\"NDVI\"+image)\n",
    "    year = image[0:4]\n",
    "    coords = ''.join(list(filter(lambda a: str.isdigit(a),image[7:])))\n",
    "    return imageBundle(rgb, infrared, coords, year)\n",
    "\n",
    "def batchImages(folder):\n",
    "    files = os.listdir(folder)\n",
    "    imageBundles = ''.join(list(map(imageToBundle, filter(lambda a: a[0:4] != \"NDVI\",files))))\n",
    "    return imageBundles\n",
    "        "
   ]
  },
  {
   "cell_type": "code",
   "execution_count": 15,
   "metadata": {},
   "outputs": [
    {
     "data": {
      "text/plain": [
       "['a', 'a']"
      ]
     },
     "execution_count": 15,
     "metadata": {},
     "output_type": "execute_result"
    }
   ],
   "source": [
    "list((filter(lambda a: a == \"a\", \"Among as a\")))"
   ]
  }
 ],
 "metadata": {
  "kernelspec": {
   "display_name": "Python 3",
   "language": "python",
   "name": "python3"
  },
  "kernelspec": {
   "display_name": "Python 3",
   "language": "python",
   "name": "python3"
  },
  "kernelspec": {
   "display_name": "Python 3",
   "language": "python",
   "name": "python3"
  },
  "language_info": {
   "codemirror_mode": {
    "name": "ipython",
    "version": 3
   },
   "file_extension": ".py",
   "mimetype": "text/x-python",
   "name": "python",
   "nbconvert_exporter": "python",
   "pygments_lexer": "ipython3",
   "version": "3.12.3"
   "codemirror_mode": {
    "name": "ipython",
    "version": 3
   },
   "file_extension": ".py",
   "mimetype": "text/x-python",
   "name": "python",
   "nbconvert_exporter": "python",
   "pygments_lexer": "ipython3",
   "version": "3.12.3"
   "codemirror_mode": {
    "name": "ipython",
    "version": 3
   },
   "file_extension": ".py",
   "mimetype": "text/x-python",
   "name": "python",
   "nbconvert_exporter": "python",
   "pygments_lexer": "ipython3",
   "version": "3.11.8"
  }
 },
 "nbformat": 4,
 "nbformat_minor": 2
}
