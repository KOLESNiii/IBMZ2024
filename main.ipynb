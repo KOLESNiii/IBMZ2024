{
 "cells": [
  {
   "cell_type": "code",
   "execution_count": null,
   "metadata": {
    "vscode": {
     "languageId": "bat"
    }
   },
   "outputs": [],
   "source": [
    "pip install opencv-python numpy rasterio sentinelhub matplotlib"
   ]
  },
  {
   "cell_type": "code",
   "execution_count": 9,
   "metadata": {},
   "outputs": [],
   "source": [
    "import cv2 as opencv\n",
    "from sentinelhub import SHConfig, MimeType, CRS, BBox, SentinelHubRequest, DataCollection, bbox_to_dimensions\n",
    "import numpy as np\n",
    "import matplotlib.pyplot as plt\n",
    "import rasterio"
   ]
  },
  {
   "cell_type": "code",
   "execution_count": null,
   "metadata": {},
   "outputs": [],
   "source": [
    "\n",
    "class imageBundle:\n",
    "    def __init__(self, img, year, coords):\n",
    "        self.img = img  # Assuming img is a grayscale image loaded with OpenCV\n",
    "        self.year = year\n",
    "        self.coords = coords\n",
    "\n",
    "    def toNdvi(self):\n",
    "        # Check if the image is valid\n",
    "        if self.img is None:\n",
    "            raise ValueError(\"No image data found.\") \n",
    "\n",
    "        # Normalize the grayscale image to a range [0, 1]\n",
    "        gray_normalized = self.img.astype(float) / 255.0\n",
    "        \n",
    "        # Map normalized values to NDVI range [-1, 1]\n",
    "        ndvi = gray_normalized * 2 - 1  # Scale from [0, 1] to [-1, 1]\n",
    "\n",
    "        return ndvi  # Return NDVI values\n",
    "    \n",
    "    def returnNdvi(self):\n",
    "        \"\"\"Return a 1D array of NDVI values.\"\"\"\n",
    "        ndvi = self.toNdvi()  # Get the NDVI array\n",
    "        ndvi_flat = ndvi.flatten()  # Flatten the NDVI array to 1D\n",
    "        return ndvi_flat  # Return the flattened NDVI values        \n",
    "    \n",
    "\n",
    "    def display(self):\n",
    "        \"\"\"Method to display the original image and NDVI.\"\"\"\n",
    "        ndvi_image = self.toNdvi()\n",
    "\n",
    "        # Normalize NDVI for display purposes (to [0, 255])\n",
    "        ndvi_display = opencv.normalize(ndvi_image, None, 0, 255, opencv.NORM_MINMAX).astype(np.uint8)\n",
    "\n",
    "        plt.figure(figsize=(10, 5))\n",
    "        \n",
    "        plt.subplot(1, 2, 1)\n",
    "        plt.imshow(self.img, cmap='gray')\n",
    "        plt.title(f'Original Grayscale Image ({self.year})')\n",
    "        plt.axis('off')\n",
    "\n",
    "        plt.subplot(1, 2, 2)\n",
    "        plt.imshow(ndvi_display, cmap='hot')\n",
    "        plt.title('Mapped NDVI')\n",
    "        plt.axis('off')\n",
    "\n",
    "        plt.colorbar()\n",
    "        plt.show()\n",
    "\n",
    "\n",
    "\n",
    "\n",
    "\n",
    "\n",
    "\n",
    "\n",
    "\n",
    "  \n",
    "    \n",
    "\n",
    "\n",
    "\n",
    "\n",
    "\n",
    "\n",
    "\n",
    "\n",
    "\n",
    "\n",
    "\n",
    "    "
   ]
  },
  {
   "cell_type": "code",
   "execution_count": null,
   "metadata": {},
   "outputs": [],
   "source": [
    "\n"
   ]
  },
  {
   "cell_type": "code",
   "execution_count": null,
   "metadata": {},
   "outputs": [],
   "source": []
  },
  {
   "cell_type": "code",
   "execution_count": null,
   "metadata": {},
   "outputs": [],
   "source": []
  },
  {
   "cell_type": "code",
   "execution_count": 6,
   "execution_count": 2,
   "metadata": {},
   "outputs": [],
   "source": [
    "import math\n",
    "\n",
    "# Constants\n",
    "earth_radius = 6371.0  # Earth radius in km\n",
    "km_per_deg_lat = 111  # Kilometers per degree of latitude\n",
    "\n",
    "# Function to calculate the longitude step at a given latitude\n",
    "def calculate_longitude_step(lat, side_km):\n",
    "    km_per_deg_lon = 111 * math.cos(math.radians(lat))  # Kilometers per degree of longitude at latitude\n",
    "    return side_km / km_per_deg_lon\n",
    "\n",
    "\n",
    "# Generate grid from bottom-left (-90, -180) to top-right (90, 180)\n",
    "def get_all_grids(side_length_km = 85):\n",
    "    # Latitude step (constant since km per degree latitude is constant)\n",
    "    lat_step = side_length_km / km_per_deg_lat\n",
    "    lat = -90\n",
    "    count = 0\n",
    "    while lat + lat_step <= 90:\n",
    "        lon = -180\n",
    "        while lon + calculate_longitude_step(lat, side_length_km) <= 180:\n",
    "            lon_step = calculate_longitude_step(lat, side_length_km)\n",
    "            \n",
    "            # Bottom-left and top-right corners of the box\n",
    "            bottom_left = [lat, lon]\n",
    "            top_right = [lat + lat_step, lon + lon_step]\n",
    "            \n",
    "            # return a generator\n",
    "            yield (count, bottom_left + top_right)\n",
    "            \n",
    "            # Move to the next box in longitude\n",
    "            lon += lon_step\n",
    "            count += 1\n",
    "        # Move to the next box in latitude\n",
    "        lat += lat_step\n",
    "    \n",
    "\n",
    "def get_nth_grid(n, side_length_km = 85):\n",
    "    # Latitude step (constant since km per degree latitude is constant)\n",
    "    lat_step = side_length_km / km_per_deg_lat\n",
    "    lat = -90\n",
    "    count = 0\n",
    "    while lat + lat_step <= 90:\n",
    "        lon = -180\n",
    "        while lon + calculate_longitude_step(lat, side_length_km) <= 180:\n",
    "            lon_step = calculate_longitude_step(lat, side_length_km)\n",
    "            if count == n:\n",
    "                return [lat, lon, lat + lat_step, lon + lon_step]\n",
    "\n",
    "            lon += lon_step\n",
    "            count += 1\n",
    "        # Move to the next box in latitude\n",
    "        lat += lat_step"
   ]
   "source": [
    "class imageBundle:\n",
    "    def __init__(self, rgb, infrared, coords, year):\n",
    "        self.rgb = rgb\n",
    "        self.coords = coords\n",
    "        self.year = year\n",
    "        self.infrared = infrared\n",
    "\n",
    "def imageToBundle(image):\n",
    "    rgb = opencv.imread(image)\n",
    "    infrared = opencv.imread(\"NDVI\"+image)\n",
    "    year = image[0:4]\n",
    "    coords = ''.join(list(filter(lambda a: str.isdigit(a),image[7:])))\n",
    "    return imageBundle(rgb, infrared, coords, year)\n",
    "\n",
    "def batchImages(folder):\n",
    "    files = os.listdir(folder)\n",
    "    imageBundles = ''.join(list(map(imageToBundle, filter(lambda a: a[0:4] != \"NDVI\",files))))\n",
    "    return imageBundles\n",
    "        "
   ]
  },
  {
   "cell_type": "code",
   "execution_count": 15,
   "metadata": {},
   "outputs": [
    {
     "data": {
      "text/plain": [
       "['a', 'a']"
      ]
     },
     "execution_count": 15,
     "metadata": {},
     "output_type": "execute_result"
    }
   ],
   "source": [
    "list((filter(lambda a: a == \"a\", \"Among as a\")))"
   ]
  }
 ],
 "metadata": {
  "kernelspec": {
   "display_name": "Python 3",
   "language": "python",
   "name": "python3"
  },
  "kernelspec": {
   "display_name": "Python 3",
   "language": "python",
   "name": "python3"
  },
  "kernelspec": {
   "display_name": "Python 3",
   "language": "python",
   "name": "python3"
  },
  "language_info": {
   "codemirror_mode": {
    "name": "ipython",
    "version": 3
   },
   "file_extension": ".py",
   "mimetype": "text/x-python",
   "name": "python",
   "nbconvert_exporter": "python",
   "pygments_lexer": "ipython3",
   "version": "3.12.3"
   "codemirror_mode": {
    "name": "ipython",
    "version": 3
   },
   "file_extension": ".py",
   "mimetype": "text/x-python",
   "name": "python",
   "nbconvert_exporter": "python",
   "pygments_lexer": "ipython3",
   "version": "3.12.3"
   "codemirror_mode": {
    "name": "ipython",
    "version": 3
   },
   "file_extension": ".py",
   "mimetype": "text/x-python",
   "name": "python",
   "nbconvert_exporter": "python",
   "pygments_lexer": "ipython3",
   "version": "3.11.8"
  }
 },
 "nbformat": 4,
 "nbformat_minor": 2
}
