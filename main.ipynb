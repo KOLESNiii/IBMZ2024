{
 "cells": [
  {
   "cell_type": "code",
   "execution_count": 2,
   "metadata": {},
   "outputs": [],
   "source": [
    "import math\n",
    "\n",
    "# Constants\n",
    "earth_radius = 6371.0  # Earth radius in km\n",
    "km_per_deg_lat = 111  # Kilometers per degree of latitude\n",
    "\n",
    "# Function to calculate the longitude step at a given latitude\n",
    "def calculate_longitude_step(lat, side_km):\n",
    "    km_per_deg_lon = 111 * math.cos(math.radians(lat))  # Kilometers per degree of longitude at latitude\n",
    "    return side_km / km_per_deg_lon\n",
    "\n",
    "\n",
    "# Generate grid from bottom-left (-90, -180) to top-right (90, 180)\n",
    "def get_all_grids(side_length_km = 85):\n",
    "    # Latitude step (constant since km per degree latitude is constant)\n",
    "    lat_step = side_length_km / km_per_deg_lat\n",
    "    lat = -90\n",
    "    count = 0\n",
    "    while lat + lat_step <= 90:\n",
    "        lon = -180\n",
    "        while lon + calculate_longitude_step(lat, side_length_km) <= 180:\n",
    "            lon_step = calculate_longitude_step(lat, side_length_km)\n",
    "            \n",
    "            # Bottom-left and top-right corners of the box\n",
    "            bottom_left = [lat, lon]\n",
    "            top_right = [lat + lat_step, lon + lon_step]\n",
    "            \n",
    "            # return a generator\n",
    "            yield (count, bottom_left + top_right)\n",
    "            \n",
    "            # Move to the next box in longitude\n",
    "            lon += lon_step\n",
    "            count += 1\n",
    "        # Move to the next box in latitude\n",
    "        lat += lat_step\n",
    "    \n",
    "\n",
    "def get_nth_grid(n, side_length_km = 85):\n",
    "    # Latitude step (constant since km per degree latitude is constant)\n",
    "    lat_step = side_length_km / km_per_deg_lat\n",
    "    lat = -90\n",
    "    count = 0\n",
    "    while lat + lat_step <= 90:\n",
    "        lon = -180\n",
    "        while lon + calculate_longitude_step(lat, side_length_km) <= 180:\n",
    "            lon_step = calculate_longitude_step(lat, side_length_km)\n",
    "            if count == n:\n",
    "                return [lat, lon, lat + lat_step, lon + lon_step]\n",
    "\n",
    "            lon += lon_step\n",
    "            count += 1\n",
    "        # Move to the next box in latitude\n",
    "        lat += lat_step"
   ]
  }
 ],
 "metadata": {
  "kernelspec": {
   "display_name": "Python 3",
   "language": "python",
   "name": "python3"
  },
  "language_info": {
   "codemirror_mode": {
    "name": "ipython",
    "version": 3
   },
   "file_extension": ".py",
   "mimetype": "text/x-python",
   "name": "python",
   "nbconvert_exporter": "python",
   "pygments_lexer": "ipython3",
   "version": "3.12.3"
  }
 },
 "nbformat": 4,
 "nbformat_minor": 2
}
