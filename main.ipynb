{
 "cells": [
  {
   "cell_type": "code",
   "execution_count": 2,
   "metadata": {
    "vscode": {
     "languageId": "bat"
    }
   },
   "outputs": [
    {
     "name": "stdout",
     "output_type": "stream",
     "text": [
      "Collecting opencv-pythonNote: you may need to restart the kernel to use updated packages.\n"
     ]
    },
    {
     "name": "stderr",
     "output_type": "stream",
     "text": [
      "  WARNING: The scripts f2py.exe and numpy-config.exe are installed in 'c:\\Users\\lawre\\AppData\\Local\\Programs\\Python\\Python311-32\\Scripts' which is not on PATH.\n",
      "  Consider adding this directory to PATH or, if you prefer to suppress this warning, use --no-warn-script-location.\n",
      "\n",
      "[notice] A new release of pip is available: 24.0 -> 24.2\n",
      "[notice] To update, run: python.exe -m pip install --upgrade pip\n"
     ]
    },
    {
     "name": "stdout",
     "output_type": "stream",
     "text": [
      "\n",
      "  Downloading opencv_python-4.10.0.84-cp37-abi3-win32.whl.metadata (20 kB)\n",
      "Collecting numpy>=1.21.2 (from opencv-python)\n",
      "  Downloading numpy-2.1.2-cp311-cp311-win32.whl.metadata (59 kB)\n",
      "     ---------------------------------------- 0.0/59.7 kB ? eta -:--:--\n",
      "     ------ --------------------------------- 10.2/59.7 kB ? eta -:--:--\n",
      "     -------------------------------- ----- 51.2/59.7 kB 871.5 kB/s eta 0:00:01\n",
      "     -------------------------------------- 59.7/59.7 kB 526.6 kB/s eta 0:00:00\n",
      "Downloading opencv_python-4.10.0.84-cp37-abi3-win32.whl (28.7 MB)\n",
      "   ---------------------------------------- 0.0/28.7 MB ? eta -:--:--\n",
      "    --------------------------------------- 0.4/28.7 MB 12.6 MB/s eta 0:00:03\n",
      "   - -------------------------------------- 1.0/28.7 MB 12.6 MB/s eta 0:00:03\n",
      "   -- ------------------------------------- 1.7/28.7 MB 11.8 MB/s eta 0:00:03\n",
      "   --- ------------------------------------ 2.4/28.7 MB 12.9 MB/s eta 0:00:03\n",
      "   ---- ----------------------------------- 3.2/28.7 MB 13.5 MB/s eta 0:00:02\n",
      "   ----- ---------------------------------- 3.9/28.7 MB 14.5 MB/s eta 0:00:02\n",
      "   ------ --------------------------------- 4.6/28.7 MB 14.7 MB/s eta 0:00:02\n",
      "   ------- -------------------------------- 5.3/28.7 MB 14.8 MB/s eta 0:00:02\n",
      "   -------- ------------------------------- 6.3/28.7 MB 15.6 MB/s eta 0:00:02\n",
      "   ---------- ----------------------------- 7.3/28.7 MB 16.1 MB/s eta 0:00:02\n",
      "   ----------- ---------------------------- 8.0/28.7 MB 16.1 MB/s eta 0:00:02\n",
      "   ------------ --------------------------- 8.9/28.7 MB 16.7 MB/s eta 0:00:02\n",
      "   ------------- -------------------------- 9.7/28.7 MB 16.4 MB/s eta 0:00:02\n",
      "   -------------- ------------------------- 10.5/28.7 MB 17.2 MB/s eta 0:00:02\n",
      "   --------------- ------------------------ 11.3/28.7 MB 18.2 MB/s eta 0:00:01\n",
      "   ---------------- ----------------------- 12.1/28.7 MB 18.2 MB/s eta 0:00:01\n",
      "   ------------------ --------------------- 13.0/28.7 MB 19.3 MB/s eta 0:00:01\n",
      "   ------------------- -------------------- 13.7/28.7 MB 18.7 MB/s eta 0:00:01\n",
      "   ------------------- -------------------- 14.4/28.7 MB 18.7 MB/s eta 0:00:01\n",
      "   --------------------- ------------------ 15.2/28.7 MB 18.7 MB/s eta 0:00:01\n",
      "   ---------------------- ----------------- 16.0/28.7 MB 18.2 MB/s eta 0:00:01\n",
      "   ----------------------- ---------------- 16.8/28.7 MB 18.2 MB/s eta 0:00:01\n",
      "   ------------------------ --------------- 17.6/28.7 MB 18.2 MB/s eta 0:00:01\n",
      "   ------------------------- -------------- 18.4/28.7 MB 18.2 MB/s eta 0:00:01\n",
      "   -------------------------- ------------- 19.0/28.7 MB 17.7 MB/s eta 0:00:01\n",
      "   --------------------------- ------------ 19.9/28.7 MB 17.7 MB/s eta 0:00:01\n",
      "   ---------------------------- ----------- 20.6/28.7 MB 17.7 MB/s eta 0:00:01\n",
      "   ----------------------------- ---------- 21.3/28.7 MB 17.7 MB/s eta 0:00:01\n",
      "   ------------------------------ --------- 22.1/28.7 MB 17.7 MB/s eta 0:00:01\n",
      "   ------------------------------- -------- 22.8/28.7 MB 17.2 MB/s eta 0:00:01\n",
      "   -------------------------------- ------- 23.6/28.7 MB 17.7 MB/s eta 0:00:01\n",
      "   ---------------------------------- ----- 24.5/28.7 MB 17.2 MB/s eta 0:00:01\n",
      "   ----------------------------------- ---- 25.3/28.7 MB 17.2 MB/s eta 0:00:01\n",
      "   ------------------------------------ --- 26.2/28.7 MB 17.2 MB/s eta 0:00:01\n",
      "   ------------------------------------- -- 27.1/28.7 MB 18.2 MB/s eta 0:00:01\n",
      "   -------------------------------------- - 27.8/28.7 MB 17.7 MB/s eta 0:00:01\n",
      "   ---------------------------------------  28.7/28.7 MB 18.2 MB/s eta 0:00:01\n",
      "   ---------------------------------------  28.7/28.7 MB 17.7 MB/s eta 0:00:01\n",
      "   ---------------------------------------  28.7/28.7 MB 17.7 MB/s eta 0:00:01\n",
      "   ---------------------------------------  28.7/28.7 MB 17.7 MB/s eta 0:00:01\n",
      "   ---------------------------------------- 28.7/28.7 MB 13.9 MB/s eta 0:00:00\n",
      "Downloading numpy-2.1.2-cp311-cp311-win32.whl (6.5 MB)\n",
      "   ---------------------------------------- 0.0/6.5 MB ? eta -:--:--\n",
      "   --- ------------------------------------ 0.6/6.5 MB 13.3 MB/s eta 0:00:01\n",
      "   -------- ------------------------------- 1.4/6.5 MB 18.0 MB/s eta 0:00:01\n",
      "   ------------- -------------------------- 2.2/6.5 MB 17.4 MB/s eta 0:00:01\n",
      "   ------------------ --------------------- 3.0/6.5 MB 17.4 MB/s eta 0:00:01\n",
      "   ----------------------- ---------------- 3.8/6.5 MB 17.5 MB/s eta 0:00:01\n",
      "   ----------------------------- ---------- 4.8/6.5 MB 19.0 MB/s eta 0:00:01\n",
      "   -------------------------------------- - 6.3/6.5 MB 20.3 MB/s eta 0:00:01\n",
      "   ---------------------------------------  6.5/6.5 MB 20.9 MB/s eta 0:00:01\n",
      "   ---------------------------------------- 6.5/6.5 MB 17.4 MB/s eta 0:00:00\n",
      "Installing collected packages: numpy, opencv-python\n",
      "Successfully installed numpy-2.1.2 opencv-python-4.10.0.84\n"
     ]
    }
   ],
   "source": [
    "pip install opencv-python\n"
   ]
  },
  {
   "cell_type": "code",
   "execution_count": 2,
   "metadata": {},
   "outputs": [],
   "source": [
    "import cv2 as opencv\n",
    "import os"
   ]
  },
  {
   "cell_type": "code",
   "execution_count": 6,
   "execution_count": 2,
   "metadata": {},
   "outputs": [],
   "source": [
    "import math\n",
    "\n",
    "# Constants\n",
    "earth_radius = 6371.0  # Earth radius in km\n",
    "km_per_deg_lat = 111  # Kilometers per degree of latitude\n",
    "\n",
    "# Function to calculate the longitude step at a given latitude\n",
    "def calculate_longitude_step(lat, side_km):\n",
    "    km_per_deg_lon = 111 * math.cos(math.radians(lat))  # Kilometers per degree of longitude at latitude\n",
    "    return side_km / km_per_deg_lon\n",
    "\n",
    "\n",
    "# Generate grid from bottom-left (-90, -180) to top-right (90, 180)\n",
    "def get_all_grids(side_length_km = 85):\n",
    "    # Latitude step (constant since km per degree latitude is constant)\n",
    "    lat_step = side_length_km / km_per_deg_lat\n",
    "    lat = -90\n",
    "    count = 0\n",
    "    while lat + lat_step <= 90:\n",
    "        lon = -180\n",
    "        while lon + calculate_longitude_step(lat, side_length_km) <= 180:\n",
    "            lon_step = calculate_longitude_step(lat, side_length_km)\n",
    "            \n",
    "            # Bottom-left and top-right corners of the box\n",
    "            bottom_left = [lat, lon]\n",
    "            top_right = [lat + lat_step, lon + lon_step]\n",
    "            \n",
    "            # return a generator\n",
    "            yield (count, bottom_left + top_right)\n",
    "            \n",
    "            # Move to the next box in longitude\n",
    "            lon += lon_step\n",
    "            count += 1\n",
    "        # Move to the next box in latitude\n",
    "        lat += lat_step\n",
    "    \n",
    "\n",
    "def get_nth_grid(n, side_length_km = 85):\n",
    "    # Latitude step (constant since km per degree latitude is constant)\n",
    "    lat_step = side_length_km / km_per_deg_lat\n",
    "    lat = -90\n",
    "    count = 0\n",
    "    while lat + lat_step <= 90:\n",
    "        lon = -180\n",
    "        while lon + calculate_longitude_step(lat, side_length_km) <= 180:\n",
    "            lon_step = calculate_longitude_step(lat, side_length_km)\n",
    "            if count == n:\n",
    "                return [lat, lon, lat + lat_step, lon + lon_step]\n",
    "\n",
    "            lon += lon_step\n",
    "            count += 1\n",
    "        # Move to the next box in latitude\n",
    "        lat += lat_step"
   ]
   "source": [
    "class imageBundle:\n",
    "    def __init__(img, coords, year):\n",
    "        self.img = img\n",
    "        self.coords = coords\n",
    "        self.year = year\n",
    "\n",
    "def imageToBundle(image):\n",
    "    img = opencv.imread(image)\n",
    "    year = image[0:4]\n",
    "    coords = filter(lambda a: str.isdigit(a),image[7:])\n",
    "    return imageBundle(img, coords, year)\n",
    "\n",
    "def batchImages(folder):\n",
    "    files = os.listdir(folder)\n",
    "    imageBundles = map(imageToBundle ,files)\n",
    "    return imageBundles\n",
    "        "
   ]
  }
 ],
 "metadata": {
  "kernelspec": {
   "display_name": "Python 3",
   "language": "python",
   "name": "python3"
  },
  "kernelspec": {
   "display_name": "Python 3",
   "language": "python",
   "name": "python3"
  },
  "kernelspec": {
   "display_name": "Python 3",
   "language": "python",
   "name": "python3"
  },
  "language_info": {
   "codemirror_mode": {
    "name": "ipython",
    "version": 3
   },
   "file_extension": ".py",
   "mimetype": "text/x-python",
   "name": "python",
   "nbconvert_exporter": "python",
   "pygments_lexer": "ipython3",
   "version": "3.12.3"
   "codemirror_mode": {
    "name": "ipython",
    "version": 3
   },
   "file_extension": ".py",
   "mimetype": "text/x-python",
   "name": "python",
   "nbconvert_exporter": "python",
   "pygments_lexer": "ipython3",
   "version": "3.12.3"
   "codemirror_mode": {
    "name": "ipython",
    "version": 3
   },
   "file_extension": ".py",
   "mimetype": "text/x-python",
   "name": "python",
   "nbconvert_exporter": "python",
   "pygments_lexer": "ipython3",
   "version": "3.11.8"
  }
 },
 "nbformat": 4,
 "nbformat_minor": 2
}
